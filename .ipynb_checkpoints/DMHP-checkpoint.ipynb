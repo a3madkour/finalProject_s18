{
 "cells": [
  {
   "cell_type": "code",
   "execution_count": 1,
   "metadata": {
    "collapsed": true
   },
   "outputs": [],
   "source": [
    "import numpy as np\n",
    "from scipy.stats import rayleigh\n",
    "from scipy.special import digamma,erf\n",
    "import scipy.io as sio\n",
    "import pandas as pd"
   ]
  },
  {
   "cell_type": "code",
   "execution_count": 2,
   "metadata": {
    "collapsed": true
   },
   "outputs": [],
   "source": [
    "def parseMat(data):\n",
    "    dataSeqs= data['Seqs']  \n",
    "    mdtype = dataSeqs.dtype\n",
    "    seqs = {n: dataSeqs[n].flatten() for n in mdtype.names}\n",
    "    if 'Stats' in data:\n",
    "        dataStats = data['Stats']  \n",
    "        mdtype = dataSeqs.dtype  \n",
    "        stats = {n: dataSeqs[n].flatten() for n in mdtype.names}\n",
    "        \n",
    "        return seqs,stats\n",
    "    return seqs, None"
   ]
  },
  {
   "cell_type": "code",
   "execution_count": 26,
   "metadata": {
    "collapsed": true
   },
   "outputs": [],
   "source": [
    "class Model:\n",
    "    def __init__(self,seqs,K):\n",
    "            self.N = len(seqs['Time'])\n",
    "            D= np.zeros(self.N)\n",
    "            sigma = np.zeros(self.N)\n",
    "            Tmax = np.zeros(self.N)\n",
    "            self.K = K\n",
    "            for i in range(self.N):\n",
    "                D[i] = np.max(seqs['Mark'][i])\n",
    "                # actual sigma and Tmax\n",
    "                sigma[i] = np.nan_to_num((4*(np.std(seqs['Time'][i], ddof=1)**5) / (3* len(seqs['Time'][i])))**0.2)\n",
    "                Tmax[i] = seqs['Time'][i][-1][0] + np.spacing(1)\n",
    "                \n",
    "                #this sigma and Tmax is for syn_data\n",
    "#                 sigma[i] = np.nan_to_num((4*(np.std(seqs['Time'][i], ddof=1)**5) / (3* len(seqs['Time'][i][0])))**0.2)\n",
    "#                 Tmax[i] = np.max(seqs['Time'][i]) + np.spacing(1)\n",
    "#                 print('Tmax[',i,']=',Tmax[i])\n",
    "#                 print('sigma[',i,']=',sigma[i])\n",
    "            self.D = np.int(np.max(D))\n",
    "            Tmax = np.mean(Tmax)\n",
    "            self.w = np.mean(sigma)\n",
    "#             print(self.w)\n",
    "#             print(Tmax)\n",
    "            self.landmark = self.w* range(np.int(np.ceil(Tmax/self.w))+1) # +1 added\n",
    "#             self.alpha = np.ones(K)   # why is this np.ones(K) ??\n",
    "            self.alpha = 1\n",
    "            M = len(self.landmark)\n",
    "            self.beta = np.ones((self.D,M,self.K,self.D)) / (M*(self.D**2))\n",
    "            self.b = np.ones((self.D,K))/self.D\n",
    "            \n",
    "            label = np.round(K * np.random.rand(self.N))\n",
    "            ## for testing purpose\n",
    "#             l1 = np.zeros(int(self.N/2))\n",
    "#             l2 = np.ones(int(self.N-int(self.N/2)))\n",
    "#             label = np.append(l1, l2)\n",
    "\n",
    "            self.r = np.zeros((self.N,K))\n",
    "            for k in range(K):\n",
    "                self.r[label==k,k] = 1\n",
    "            self.kernel = \"gauss\"\n",
    "class Alg:\n",
    "    def __init__ (self, outer = 8,rho = 0.1,inner = 5,thres = 1e-5,Tmax = []):\n",
    "        self.outer = outer\n",
    "        self.rho = rho\n",
    "        self.inner = inner\n",
    "        self.thres = thres\n",
    "        self.Tmax = Tmax"
   ]
  },
  {
   "cell_type": "code",
   "execution_count": 16,
   "metadata": {
    "collapsed": true
   },
   "outputs": [],
   "source": [
    "def kernel_int(dt,model):\n",
    "    distance = np.tile(dt.flatten(),(len(model.landmark),1))\n",
    "    landmark = np.tile(model.landmark.conj(),(len(dt.flatten()),1)).T\n",
    "    distance = distance.astype(np.float64)\n",
    "    landmark = landmark.astype(np.float64)\n",
    "    distance -= landmark\n",
    "    G = 0\n",
    "    if model.kernel == 'gauss':\n",
    "        G = 0.5 *(erf(distance/(np.sqrt(2))*model.w)\n",
    "                  + erf(landmark/(np.sqrt(2))*model.w))\n",
    "    elif model.kernel == 'exp':\n",
    "        G = 1 - np.exp(-model.w * (distance-landmark));\n",
    "        G[G<0] = 0\n",
    "    return G"
   ]
  },
  {
   "cell_type": "code",
   "execution_count": 17,
   "metadata": {
    "collapsed": true
   },
   "outputs": [],
   "source": [
    "def kernel(dt,model):\n",
    "    distance = np.tile(dt.flatten(),(len(model.landmark),1))\n",
    "    landmark = np.tile(model.landmark.conj(),(len(dt.flatten()),1)).T\n",
    "    distance = distance.astype(np.float64)\n",
    "    landmark = landmark.astype(np.float64)\n",
    "    distance -= landmark\n",
    "    g = 0\n",
    "    if model.kernel == 'gauss':\n",
    "        g = np.exp(-(distance**2)/(2*(model.w**2)))/(np.sqrt(2*np.pi)*model.w)\n",
    "    elif model.kernel == 'exp':\n",
    "        g = model.w * np.exp(-model.w * distance)\n",
    "        g[g>1] = 0\n",
    "    return g"
   ]
  },
  {
   "cell_type": "code",
   "execution_count": 18,
   "metadata": {
    "collapsed": true
   },
   "outputs": [],
   "source": [
    "def E_log_pi(alpha):\n",
    "    return digamma(alpha)  - digamma(np.sum(alpha))"
   ]
  },
  {
   "cell_type": "code",
   "execution_count": 19,
   "metadata": {
    "collapsed": true
   },
   "outputs": [],
   "source": [
    "def Expectation_DMHP(seqs,model,alg):\n",
    "    Nk = np.sum(model.r,0)\n",
    "    alpha = model.alpha + Nk\n",
    "    LL = E_log_pi(alpha)\n",
    "    EX = np.zeros((model.N,model.K))\n",
    "    for c in range(model.N):\n",
    "        time = seqs['Time'][c].flatten()\n",
    "        event = seqs['Mark'][c].flatten()\n",
    "        Tstart = seqs['Start'][c].flatten()\n",
    "        if not alg.Tmax:\n",
    "            Tstop = seqs['Stop'][c].flatten()\n",
    "        else:\n",
    "            Tstop = alg.Tmax\n",
    "            indt = time < alg.Tmax\n",
    "            time = time[indt]\n",
    "            event = event[indt]\n",
    "        N = len(time)\n",
    "        G = kernel_int(Tstop-time,model)\n",
    "        for i in range(N):\n",
    "            ui = event[i]\n",
    "            ti = time[i]\n",
    "        \n",
    "            E_lambda_i = (np.sqrt(np.pi/2) * model.b[ui-1,:]).flatten()\n",
    "            V_lambda_i = (2 - np.sqrt(np.pi/2) * (model.b[ui-1,:]**2)).flatten()\n",
    "            if i > 0:\n",
    "                uj = event[0:i].flatten()\n",
    "                tj = time[0:i].flatten()\n",
    "                gij = kernel(ti-tj,model)\n",
    "                auiuj = model.beta[uj-1,:,:,uj-1]\n",
    "                tiled = np.tile(gij,(1,1,1))\n",
    "                tiled = np.tile(tiled.T,(1,1,model.K))\n",
    "                pij = np.multiply(tiled,auiuj)\n",
    "            \n",
    "                tmp = np.sum(pij,axis=(0,1))\n",
    "                E_lambda_i += tmp\n",
    "                tmp = np.sum(pij**2,axis=(0,1))\n",
    "                V_lambda_i += tmp\n",
    "            LL += np.log(E_lambda_i) - (V_lambda_i/ (2*(E_lambda_i**2)))\n",
    "        LL -= (Tstop-Tstart).flatten() * (np.sqrt(np.pi/2) * np.sum(model.b))\n",
    "        temp = np.tile(G,(model.K,1,1)).T\n",
    "        temp2 = np.multiply(temp,np.sum(model.beta[event-1,:,:,:],axis = 3))\n",
    "        tmp = np.sum(temp2,(0,1))\n",
    "        LL -= tmp\n",
    "        XX = (LL - np.max(LL))\n",
    "        EX[c,:] = (np.exp(XX) / np.sum(np.exp(XX)))\n",
    "    model.r = EX"
   ]
  },
  {
   "cell_type": "code",
   "execution_count": 20,
   "metadata": {
    "collapsed": true
   },
   "outputs": [],
   "source": [
    "def Maximization_DMHP (seqs,model,alg):\n",
    "    EX = model.r\n",
    "    A = model.beta\n",
    "    mu = np.sqrt(np.pi/2)*model.b\n",
    "    \n",
    "#     print('A: ', A.shape)\n",
    "\n",
    "    for inn in range(alg.inner):\n",
    "        temp1 = A / model.beta\n",
    "        temp1[np.isnan(temp1)]  = 0\n",
    "        temp1[np.isinf(temp1)]  = 0\n",
    "    \n",
    "        temp2 = (mu**2) / (2*(model.b**2))\n",
    "        temp2[np.isnan(temp2)]  = 0\n",
    "        temp2[np.isinf(temp2)]  = 0\n",
    "    \n",
    "        temp3 = np.log(mu)  \n",
    "        temp3[np.isnan(temp3)]  = 0\n",
    "        temp3[np.isinf(temp3)]  = 0\n",
    "        \n",
    "#         print('tmp1=',np.sum(temp1),', tmp2=',np.sum(temp2),', tmp3=',np.sum(temp3))\n",
    "        \n",
    "        NLL = np.sum(temp1) + np.sum(temp2) - np.sum(temp3)  # minus.. temp3\n",
    "#         print('NLL:', NLL)\n",
    "    \n",
    "        MuA = 1 / (model.b**2)\n",
    "        MuA[np.isinf(MuA)]  = 0\n",
    "        MuB = 0\n",
    "        MuC = - np.ones(model.b.shape)\n",
    "    \n",
    "        AB = np.zeros(A.shape)\n",
    "        AA =  1 / (model.beta)\n",
    "        AA[np.isinf(AA)] = 0\n",
    "        \n",
    "    \n",
    "        for c in range(model.N):\n",
    "        \n",
    "            time = seqs['Time'][c].flatten()\n",
    "            event = seqs['Mark'][c].flatten()\n",
    "            Tstart = seqs['Start'][c].flatten()\n",
    "        \n",
    "            if not alg.Tmax:\n",
    "                Tstop = seqs['Stop'][c].flatten()\n",
    "            else:\n",
    "                Tstop = alg.Tmax\n",
    "                indt = time < alg.Tmax\n",
    "                time = time[indt]\n",
    "                event = event[indt]\n",
    "            N = len(time)\n",
    "            G = kernel_int(Tstop-time,model)\n",
    "#             print(Tstop-time)\n",
    "#             print(G)\n",
    "        \n",
    "            TMPAA = np.zeros(A.shape)\n",
    "            TMPAB = np.zeros(A.shape)\n",
    "            TMPMuC = np.zeros(mu.shape)\n",
    "            LL = 0\n",
    "            for i in range(N):\n",
    "           \n",
    "                ui = event[i]\n",
    "                ti = time[i]\n",
    "            \n",
    "                tmp = np.tile(G[:,i],(model.D,model.K,1)).T\n",
    "            \n",
    "                TMPAA[ui-1,:,:,:] = TMPAA[ui-1,:,:,:] + tmp ## look at here \n",
    "            \n",
    "                lambdai = mu[ui-1,:] + np.spacing(1)  ## added spacing\n",
    "                pii = lambdai;\n",
    "            \n",
    "                if i > 0:\n",
    "                    uj = event[0:i].flatten()\n",
    "                    tj = time[0:i].flatten()\n",
    "#                     print(ti-tj)\n",
    "                    gij = kernel(ti-tj,model)\n",
    "#                     print('gij')\n",
    "#                     print(gij)\n",
    "                    auiuj = A[uj-1,:,:,ui-1]  ## A instead of model.beta and ui\n",
    "                    tiled = np.tile(gij,(1,1,1))\n",
    "                    tiled = np.tile(tiled.T,(1,1,model.K))\n",
    "                    pij = np.multiply(tiled,auiuj)\n",
    "#                     print(np.sum(pij, axis=1))\n",
    "#                     print(pij.shape)\n",
    "                \n",
    "                    tmp = np.sum(pij,(0,1))\n",
    "#                     print(np.sum(tmp))\n",
    "                    lambdai += tmp.conj().T  ## lambdai += tmp \n",
    "#                     print(np.sum(lambdai))                \n",
    "                    tmp = np.tile(lambdai,(pij.shape[0],pij.shape[1],1))\n",
    "                    pij /= tmp\n",
    "                \n",
    "                    for j in range(i):\n",
    "                        uj = event[j]\n",
    "                        TMPAB[uj-1,:,:,ui-1] -= pij[j,:,:]\n",
    "                    \n",
    "                LL += np.log(lambdai) \n",
    "#                 print(LL)\n",
    "            \n",
    "                pii /= lambdai\n",
    "                TMPMuC[ui-1,:] -= pii\n",
    "            \n",
    "#             print('LL:')\n",
    "#             print(np.sum(LL))\n",
    "            LL-= (Tstop - Tstart) * (np.sum(mu, axis=0))\n",
    "#             print(mu.shape)\n",
    "#             print(Tstop - Tstart)\n",
    "#             print(np.sum(mu))\n",
    "#             print((Tstop - Tstart) * (np.sum(mu, axis=0)))\n",
    "#             print(np.sum(LL))\n",
    "            temp = np.tile(G,(model.K,1,1)).T\n",
    "            temp2 = np.multiply(temp,np.sum(A[event-1,:,:,:],axis = 3))\n",
    "            tmp = np.sum(temp2,(0,1))\n",
    "#             print(np.sum(tmp))\n",
    "            LL -= tmp.conj().T ## changed to conj\n",
    "#             print(np.sum(LL))\n",
    "        \n",
    "            MuB += (Tstop-Tstart) * EX[c,:]\n",
    "        \n",
    "            for k in range(model.K):\n",
    "                AA[:,:,k,:] = AA[:,:,k,:] + (EX[c,k]*TMPAA[:,:,k,:]) \n",
    "                AB[:,:,k,:] = AB[:,:,k,:] + (EX[c,k]*TMPAB[:,:,k,:]) \n",
    "                MuC[:,k] = MuC[:,k] +  (EX[c,k]*TMPMuC[:,k]) \n",
    "#             NLL -= np.sum(EX[c,:]*LL)\n",
    "#             print(np.sum(LL))\n",
    "            NLL -= np.dot(EX[c,:],LL)\n",
    "#             print(NLL)\n",
    "        MuBB = np.tile(MuB,(model.D,1))\n",
    "        mutmp = (-MuBB + np.sqrt((MuBB)**2 - 4*(MuA * MuC))) / (2*MuA)\n",
    "        Atmp = -AB / AA\n",
    "    \n",
    "        Atmp[np.isnan(Atmp)] = 0\n",
    "        mutmp[np.isnan(mutmp)] = 0\n",
    "        Atmp[np.isinf(Atmp)] = 0\n",
    "        mutmp[np.isinf(mutmp)] = 0\n",
    "    \n",
    "        Err = np.sum(np.abs(A - Atmp)) / np.sum(np.abs(A))  ## removed np.nan_to_num()\n",
    "        print(\"Inner: \",inn, \" NLL: \", NLL, \" Err: \",Err)\n",
    "    \n",
    "        A = Atmp\n",
    "        mu = mutmp\n",
    "    \n",
    "        if Err < alg.thres or  inn == alg.inner:\n",
    "            break\n",
    "    model.beta = A\n",
    "    model.b = np.sqrt(2/np.pi) * mu\n",
    "    return NLL\n",
    "        "
   ]
  },
  {
   "cell_type": "code",
   "execution_count": 21,
   "metadata": {
    "collapsed": true
   },
   "outputs": [],
   "source": [
    "def LearnDMHP(seqs,model,alg):\n",
    "    NLL = np.zeros(alg.outer)\n",
    "    for outer in range(alg.outer):\n",
    "        NLL[outer] = Maximization_DMHP(seqs,model,alg)\n",
    "        Expectation_DMHP(seqs,model,alg)\n",
    "        \n",
    "        print(\"Outer Iter: \",outer,\" NLL: \", NLL[outer])"
   ]
  },
  {
   "cell_type": "code",
   "execution_count": 1,
   "metadata": {
    "collapsed": true
   },
   "outputs": [],
   "source": [
    "def cluster_purity(K, r, actual_label):\n",
    "    W = np.argmax(r, axis=1)\n",
    "    C = np.argmax(actual_label, axis=1)\n",
    "    print('C:', C)\n",
    "    print('W:', W)\n",
    "    N = W.shape[0]\n",
    "    purity = 0\n",
    "    \n",
    "    for k in range(K):\n",
    "        index_k = np.where(W==k)\n",
    "        print(index_k)\n",
    "        print('C-W', C[index_k])\n",
    "        C_k = C[index_k]\n",
    "        count = []\n",
    "        for k in range(K):\n",
    "            count.append(np.sum(C_k==k))\n",
    "            print(np.sum(C_k==k))\n",
    "\n",
    "        purity+=np.max(count)\n",
    "    \n",
    "    return purity/N"
   ]
  },
  {
   "cell_type": "code",
   "execution_count": 22,
   "metadata": {
    "collapsed": true
   },
   "outputs": [],
   "source": [
    "linkedInData = sio.loadmat('Data/LinkedinData.mat')\n",
    "IPTVData = sio.loadmat('Data/IPTVData.mat')\n",
    "synData = sio.loadmat('Data/syn_data.mat')\n",
    "IPTVSeqs,IPTVStats = parseMat(IPTVData)\n",
    "linkedInSeqs,linedInStats = parseMat(linkedInData)\n",
    "synSeqs,synStats = parseMat(synData)"
   ]
  },
  {
   "cell_type": "code",
   "execution_count": 23,
   "metadata": {
    "collapsed": true
   },
   "outputs": [],
   "source": [
    "# for key in synSeqs:\n",
    "#     print(key, len(synSeqs[key]))"
   ]
  },
  {
   "cell_type": "code",
   "execution_count": 33,
   "metadata": {
    "collapsed": true
   },
   "outputs": [],
   "source": [
    "model = Model(linkedInSeqs, 2)\n",
    "alg = Alg(8, 0.1, 5, 1e-5, [])"
   ]
  },
  {
   "cell_type": "code",
   "execution_count": 35,
   "metadata": {},
   "outputs": [
    {
     "name": "stdout",
     "output_type": "stream",
     "text": [
      "Inner:  0  NLL:  252191.601375  Err:  0.999990981287\n",
      "Inner:  1  NLL:  30424.5061633  Err:  0.998726911406\n",
      "Inner:  2  NLL:  30422.5694329  Err:  0.996946721191\n",
      "Inner:  3  NLL:  30422.5669749  Err:  0.995589406959\n",
      "Inner:  4  NLL:  30422.5669674  Err:  0.99435344109\n"
     ]
    }
   ],
   "source": [
    "NLL = Maximization_DMHP(linkedInSeqs,model,alg)"
   ]
  },
  {
   "cell_type": "code",
   "execution_count": null,
   "metadata": {
    "collapsed": true
   },
   "outputs": [],
   "source": [
    "Expectation_DMHP(linkedInSeqs,model,alg)"
   ]
  },
  {
   "cell_type": "code",
   "execution_count": null,
   "metadata": {
    "collapsed": true
   },
   "outputs": [],
   "source": [
    "model.r"
   ]
  },
  {
   "cell_type": "code",
   "execution_count": null,
   "metadata": {
    "collapsed": true
   },
   "outputs": [],
   "source": [
    "model = Model(linkedInSeqs, 2)\n",
    "alg = Alg(8, 0.1, 5, 1e-5, [])\n",
    "LearnDMHP(linkedInSeqs,model,alg)"
   ]
  }
 ],
 "metadata": {
  "kernelspec": {
   "display_name": "Python 3",
   "language": "python",
   "name": "python3"
  },
  "language_info": {
   "codemirror_mode": {
    "name": "ipython",
    "version": 3
   },
   "file_extension": ".py",
   "mimetype": "text/x-python",
   "name": "python",
   "nbconvert_exporter": "python",
   "pygments_lexer": "ipython3",
   "version": "3.6.1"
  }
 },
 "nbformat": 4,
 "nbformat_minor": 2
}
