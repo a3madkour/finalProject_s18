{
 "cells": [
  {
   "cell_type": "code",
   "execution_count": 1,
   "metadata": {},
   "outputs": [],
   "source": [
    "import numpy as np\n",
    "from scipy.stats import rayleigh\n",
    "from scipy.special import digamma,erf\n",
    "import scipy.io as sio\n",
    "import pandas as pd"
   ]
  },
  {
   "cell_type": "code",
   "execution_count": 2,
   "metadata": {},
   "outputs": [],
   "source": [
    "def parseMat(data):\n",
    "    dataSeqs= IPTVData['Seqs']  \n",
    "    mdtype = dataSeqs.dtype  \n",
    "    seqs = {n: dataSeqs[n].flatten() for n in mdtype.names}\n",
    "    dataStats = IPTVData['Stats']  \n",
    "    mdtype = dataSeqs.dtype  \n",
    "    stats = {n: dataSeqs[n].flatten() for n in mdtype.names}\n",
    "    return seqs,stats"
   ]
  },
  {
   "cell_type": "code",
   "execution_count": 3,
   "metadata": {},
   "outputs": [],
   "source": [
    "class Model:\n",
    "    def __init__(self,seqs,K):\n",
    "            self.N = len(seqs['Time'])\n",
    "            D= np.zeros(self.N)\n",
    "            sigma = np.zeros(self.N)\n",
    "            Tmax = np.zeros(self.N)\n",
    "            self.K = K\n",
    "            for i in range(self.N):\n",
    "                D[i] = np.max(seqs['Mark'][i])\n",
    "                sigma[i] = (4*(np.std(seqs['Time'][i])**5) / (3* len(seqs['Time'][i])))**0.2\n",
    "                Tmax[i] = seqs['Time'][i][-1][0]\n",
    "            self.D = np.int(np.max(D))\n",
    "            Tmax = np.mean(Tmax)\n",
    "            self.w = np.mean(sigma)\n",
    "            self.landmark = self.w* range(np.int(np.ceil(Tmax/self.w)))\n",
    "            self.alpha = np.ones(K)\n",
    "            M = len(self.landmark)\n",
    "            self.beta = np.ones((self.D,M,self.K,self.D)) / (M*(self.D**2))\n",
    "            self.b = np.ones((self.D,K))/self.D\n",
    "            label = np.round(K * np.random.rand(self.N))\n",
    "            self.r = np.zeros((self.N,K))\n",
    "            for k in range(K):\n",
    "                self.r[label==k,k] = 1\n",
    "            self.kernel = \"gauss\"\n",
    "class Alg:\n",
    "    def __init__ (self, outer = 8,rho = 0.1,inner = 5,thres =  1e-5,Tmax = []):\n",
    "        self.outer = outer\n",
    "        self.rho = rho\n",
    "        self.inner = inner\n",
    "        self.thres = thres\n",
    "        self.Tmax = Tmax"
   ]
  },
  {
   "cell_type": "code",
   "execution_count": 4,
   "metadata": {},
   "outputs": [],
   "source": [
    "linkedInData = sio.loadmat('Data/LinkedinData.mat')\n",
    "IPTVData = sio.loadmat('Data/IPTVData.mat')\n",
    "IPTVSeqs,IPTVStats = parseMat(IPTVData)\n",
    "linkedInSeqs,linedInStats = parseMat(linkedInData)"
   ]
  },
  {
   "cell_type": "code",
   "execution_count": 5,
   "metadata": {},
   "outputs": [],
   "source": [
    "def kernel_int(dt,model):\n",
    "    distance = np.tile(dt.flatten(),(len(model.landmark),1))\n",
    "    landmark = np.tile(model.landmark,(len(dt.flatten()),1)).T\n",
    "    distance -= landmark\n",
    "    G = 0\n",
    "    if model.kernel == 'gauss':\n",
    "        G = 0.5 *(erf(distance/(np.sqrt(2))*model.w)\n",
    "                  + erf(landmark/(np.sqrt(2))*model.w))\n",
    "    elif model.kernel == 'exp':\n",
    "        G = 1 - np.exp(-model.w * (distance-landmark));\n",
    "        G[G<0] = 0\n",
    "    return G"
   ]
  },
  {
   "cell_type": "code",
   "execution_count": 6,
   "metadata": {},
   "outputs": [],
   "source": [
    "def kernel(dt,model):\n",
    "    distance = np.tile(dt.flatten(),(len(model.landmark),1))\n",
    "    landmark = np.tile(model.landmark,(len(dt.flatten()),1)).T\n",
    "    distance -= landmark\n",
    "    g = 0\n",
    "    if model.kernel == 'gauss':\n",
    "        g = np.exp(-(distance**2)/(2*(model.w**2))/(np.sqrt(2*np.pi)*model.w))\n",
    "    elif model.kernel == 'exp':\n",
    "        g = model.w * np.exp(-model.w * distance)\n",
    "        g[g>1] = 0\n",
    "    return g"
   ]
  },
  {
   "cell_type": "code",
   "execution_count": 7,
   "metadata": {},
   "outputs": [],
   "source": [
    "def E_log_pi(alpha):\n",
    "    return digamma(alpha)  - digamma(np.sum(alpha))"
   ]
  },
  {
   "cell_type": "code",
   "execution_count": 8,
   "metadata": {},
   "outputs": [],
   "source": [
    "def Expectation_DMHP(Seqs,model,alg):\n",
    "    Nk = np.sum(model.r,0)\n",
    "    alpha = model.alpha + Nk\n",
    "    LL = E_log_pi(alpha)\n",
    "    EX = np.zeros((model.N,K))\n",
    "    for c in range(model.N):\n",
    "        time = seqs['Time'][c].flatten()\n",
    "        event = seqs['Mark'][c].flatten()\n",
    "        Tstart = seqs['Start'][c].flatten()\n",
    "        if not alg.Tmax:\n",
    "            Tstop = seqs['Stop'][c].flatten()\n",
    "        else:\n",
    "            Tstop = alg.Tmax\n",
    "            indt = time < alg.Tmax\n",
    "            time = time[indt]\n",
    "            event = event[indt]\n",
    "        N = len(time)\n",
    "        G = kernel_int(Tstop-time,model)\n",
    "        for i in range(N):\n",
    "            ui = event[i]\n",
    "            ti = time[i]\n",
    "        \n",
    "            E_lambda_i = (np.sqrt(np.pi/2) * model.b[ui-1,:]).flatten()\n",
    "            V_lambda_i = (2 - np.sqrt(np.pi/2) * (model.b[ui-1,:]**2)).flatten()\n",
    "            if i > 0:\n",
    "                uj = event[0:i].flatten()\n",
    "                tj = time[0:i].flatten()\n",
    "                gij = kernel(ti-tj,model)\n",
    "                auiuj = model.beta[uj-1,:,:,uj-1]\n",
    "                tiled = np.tile(gij,(1,1,1))\n",
    "                tiled = np.tile(tiled.T,(1,1,model.K))\n",
    "                pij = np.multiply(tiled,auiuj)\n",
    "            \n",
    "                tmp = np.sum(pij,axis=(0,1))\n",
    "                E_lambda_i += tmp\n",
    "                tmp = np.sum(pij**2,axis=(0,1))\n",
    "                V_lambda_i += tmp\n",
    "            LL += np.log(E_lambda_i) - (V_lambda_i/ (2*(E_lambda_i**2)))\n",
    "        LL -= (Tstop-Tstart).flatten() * (np.sqrt(np.pi/2) * np.sum(model.b))\n",
    "        temp = np.tile(G,(model.K,1,1)).T\n",
    "        temp2 = np.multiply(temp,np.sum(model.beta[event-1,:,:,:],axis = 3))\n",
    "        tmp = np.sum(temp2,(0,1))\n",
    "        LL -= tmp\n",
    "        XX = (LL - np.max(LL))\n",
    "        EX[c,:] = (np.exp(XX) / np.sum(np.exp(XX)))\n",
    "    model.r = EX"
   ]
  }
 ],
 "metadata": {
  "kernelspec": {
   "display_name": "Python 3",
   "language": "python",
   "name": "python3"
  },
  "language_info": {
   "codemirror_mode": {
    "name": "ipython",
    "version": 3
   },
   "file_extension": ".py",
   "mimetype": "text/x-python",
   "name": "python",
   "nbconvert_exporter": "python",
   "pygments_lexer": "ipython3",
   "version": "3.6.5"
  }
 },
 "nbformat": 4,
 "nbformat_minor": 2
}
