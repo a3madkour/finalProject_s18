{
 "cells": [
  {
   "cell_type": "code",
   "execution_count": 1,
   "metadata": {},
   "outputs": [],
   "source": [
    "import numpy as np\n",
    "from scipy.stats import rayleigh\n",
    "from scipy.special import digamma,erf"
   ]
  },
  {
   "cell_type": "code",
   "execution_count": 18,
   "metadata": {},
   "outputs": [],
   "source": [
    "def kernel_int(dt,landmark,w,kernel = 'gauss'):\n",
    "    distance = np.tile(dt,(len(landmark),1))\n",
    "    landmark = np.tile(landmark,(len(dt),1)).T\n",
    "    distance -= landmark\n",
    "    G = 0\n",
    "    if kernel == 'gauss':\n",
    "        G = 0.5 *(erf(distance/(np.sqrt(2))*w)\n",
    "                  + erf(landmark/(np.sqrt(2))*w))\n",
    "    elif kernel == 'exp':\n",
    "        G = 1 - np.exp(-w * (distance-landmark));\n",
    "        G[G<0] = 0\n",
    "    return G"
   ]
  },
  {
   "cell_type": "code",
   "execution_count": 30,
   "metadata": {},
   "outputs": [],
   "source": [
    "def kernel(dt,landmark,w,kernel = 'gauss'):\n",
    "    distance = np.tile(dt,(len(landmark),1))\n",
    "    landmark = np.tile(landmark,(len(dt),1)).T\n",
    "    distance -= landmark\n",
    "    g = 0\n",
    "    if kernel == 'gauss':\n",
    "        g = np.exp(-(distance**2)/(2*(w**2))/(np.sqrt(2*np.pi)*w)\n",
    "    elif kernel == 'exp':\n",
    "        g = w * np.exp(-w * distance)\n",
    "        g[g>1] = 0\n",
    "    return g"
   ]
  },
  {
   "cell_type": "code",
   "execution_count": null,
   "metadata": {},
   "outputs": [],
   "source": [
    "def E_log_pi(alpha):\n",
    "    return digamma(alpha)  - digamma(np.sum(alpha))"
   ]
  },
  {
   "cell_type": "code",
   "execution_count": 22,
   "metadata": {},
   "outputs": [],
   "source": [
    "x = np.ones(2)\n",
    "lm = np.zeros(6)"
   ]
  },
  {
   "cell_type": "code",
   "execution_count": 31,
   "metadata": {},
   "outputs": [
    {
     "data": {
      "text/plain": [
       "(6, 2)"
      ]
     },
     "execution_count": 31,
     "metadata": {},
     "output_type": "execute_result"
    }
   ],
   "source": []
  },
  {
   "cell_type": "code",
   "execution_count": 12,
   "metadata": {},
   "outputs": [
    {
     "data": {
      "text/plain": [
       "array([[0., 0., 0., 0., 0., 0.],\n",
       "       [0., 0., 0., 0., 0., 0.],\n",
       "       [0., 0., 0., 0., 0., 0.],\n",
       "       [0., 0., 0., 0., 0., 0.],\n",
       "       [0., 0., 0., 0., 0., 0.]])"
      ]
     },
     "execution_count": 12,
     "metadata": {},
     "output_type": "execute_result"
    }
   ],
   "source": []
  },
  {
   "cell_type": "code",
   "execution_count": null,
   "metadata": {},
   "outputs": [],
   "source": []
  }
 ],
 "metadata": {
  "kernelspec": {
   "display_name": "Python 3",
   "language": "python",
   "name": "python3"
  },
  "language_info": {
   "codemirror_mode": {
    "name": "ipython",
    "version": 3
   },
   "file_extension": ".py",
   "mimetype": "text/x-python",
   "name": "python",
   "nbconvert_exporter": "python",
   "pygments_lexer": "ipython3",
   "version": "3.6.5"
  }
 },
 "nbformat": 4,
 "nbformat_minor": 2
}
