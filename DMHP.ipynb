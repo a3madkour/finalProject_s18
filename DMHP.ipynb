{
 "cells": [
  {
   "cell_type": "code",
   "execution_count": 1,
   "metadata": {},
   "outputs": [],
   "source": [
    "import numpy as np\n",
    "from scipy.stats import rayleigh\n",
    "from scipy.special import digamma,erf\n",
    "import scipy.io as sio\n",
    "import pandas as pd\n",
    "import matplotlib.pylab as plt\n",
    "import copy"
   ]
  },
  {
   "cell_type": "code",
   "execution_count": 2,
   "metadata": {},
   "outputs": [],
   "source": [
    "def parse_mat(data):\n",
    "    dataSeqs= data['Seqs']  \n",
    "    mdtype = dataSeqs.dtype\n",
    "    seqs = {n: dataSeqs[n].flatten() for n in mdtype.names}\n",
    "    if 'Stats' in data:\n",
    "        dataStats = data['Stats']  \n",
    "        mdtype = dataSeqs.dtype  \n",
    "        stats = {n: dataSeqs[n].flatten() for n in mdtype.names}\n",
    "        \n",
    "        return seqs,stats\n",
    "    return seqs, None"
   ]
  },
  {
   "cell_type": "code",
   "execution_count": 3,
   "metadata": {},
   "outputs": [],
   "source": [
    "class Model:\n",
    "    def __init__(self,seqs,K):\n",
    "            self.N = len(seqs['Time'])\n",
    "            D= np.zeros(self.N)\n",
    "            sigma = np.zeros(self.N)\n",
    "            Tmax = np.zeros(self.N)\n",
    "            self.K = K\n",
    "            for i in range(self.N):\n",
    "                D[i] = np.max(seqs['Mark'][i])\n",
    "                # actual sigma and Tmax\n",
    "                sigma[i] = np.nan_to_num((4*(np.std(seqs['Time'][i].flatten(), ddof=1)**5) / (3* len(seqs['Time'][i].flatten())))**0.2)\n",
    "                Tmax[i] = seqs['Time'][i][-1][0] + np.spacing(1)\n",
    "                \n",
    "                #this sigma and Tmax is for syn_data\n",
    "#                 sigma[i] = np.nan_to_num((4*(np.std(seqs['Time'][i], ddof=1)**5) / (3* len(seqs['Time'][i][0])))**0.2)\n",
    "#                 Tmax[i] = np.max(seqs['Time'][i]) + np.spacing(1)\n",
    "#                 print('Tmax[',i,']=',Tmax[i])\n",
    "#                 print('sigma[',i,']=',sigma[i])\n",
    "            self.D = np.int(np.max(D))\n",
    "            Tmax = np.mean(Tmax)\n",
    "            self.w = np.mean(sigma)\n",
    "#             print(self.w)\n",
    "#             print(Tmax)\n",
    "            self.landmark = self.w* range(np.int(np.ceil(Tmax/self.w))+1) # +1 added\n",
    "#             self.alpha = np.ones(K)   # why is this np.ones(K) ??\n",
    "            self.alpha = 1\n",
    "            M = len(self.landmark)\n",
    "            self.beta = np.ones((self.D,M,self.K,self.D)) / (M*(self.D**2))\n",
    "            self.b = np.ones((self.D,K))/self.D\n",
    "            \n",
    "            ## for testing purpose\n",
    "            l1 = np.zeros(int(self.N/2))\n",
    "            l2 = np.ones(int(self.N-int(self.N/2)))\n",
    "\n",
    "            label = np.append(l1, l2)\n",
    "\n",
    "#             label = np.round(K * np.random.rand(self.N))\n",
    "            self.r = np.zeros((self.N,K))\n",
    "            for k in range(K):\n",
    "                self.r[label==k,k] = 1\n",
    "            self.kernel = \"gauss\"\n",
    "class Alg:\n",
    "    def __init__ (self, outer = 8,rho = 0.1,inner = 5,thres = 1e-5,Tmax = []):\n",
    "        self.outer = outer\n",
    "        self.rho = rho\n",
    "        self.inner = inner\n",
    "        self.thres = thres\n",
    "        self.Tmax = Tmax"
   ]
  },
  {
   "cell_type": "code",
   "execution_count": 4,
   "metadata": {},
   "outputs": [],
   "source": [
    "def kernel_int(dt,model):\n",
    "    distance = np.tile(dt.flatten(),(len(model.landmark),1))\n",
    "    landmark = np.tile(model.landmark.conj(),(len(dt.flatten()),1)).T\n",
    "    distance = distance.astype(np.float64)\n",
    "    landmark = landmark.astype(np.float64)\n",
    "    distance -= landmark\n",
    "    G = 0\n",
    "    if model.kernel == 'gauss':\n",
    "        G = 0.5 *(erf(distance/((np.sqrt(2))*model.w))\n",
    "                  + erf(landmark/((np.sqrt(2))*model.w)))\n",
    "    elif model.kernel == 'exp':\n",
    "        G = 1 - np.exp(-model.w * (distance-landmark));\n",
    "        G[G<0] = 0\n",
    "    return G"
   ]
  },
  {
   "cell_type": "code",
   "execution_count": 5,
   "metadata": {},
   "outputs": [],
   "source": [
    "def kernel(dt,model):\n",
    "    distance = np.tile(dt.flatten(),(len(model.landmark),1))\n",
    "    landmark = np.tile(model.landmark.conj(),(len(dt.flatten()),1)).T\n",
    "    distance = distance.astype(np.float64)\n",
    "    landmark = landmark.astype(np.float64)\n",
    "    distance -= landmark\n",
    "    g = 0\n",
    "    if model.kernel == 'gauss':\n",
    "        g = np.exp(-(distance**2)/(2*(model.w**2)))/(np.sqrt(2*np.pi)*model.w)\n",
    "    elif model.kernel == 'exp':\n",
    "        g = model.w * np.exp(-model.w * distance)\n",
    "        g[g>1] = 0\n",
    "    return g"
   ]
  },
  {
   "cell_type": "code",
   "execution_count": 6,
   "metadata": {},
   "outputs": [],
   "source": [
    "def E_log_pi(alpha):\n",
    "    return digamma(alpha)  - digamma(np.sum(alpha))"
   ]
  },
  {
   "cell_type": "code",
   "execution_count": 7,
   "metadata": {},
   "outputs": [],
   "source": [
    "def Expectation_DMHP(seqs,model,alg):\n",
    "    Nk = np.sum(model.r,0)\n",
    "    alpha = model.alpha + Nk\n",
    "    Elogpi = E_log_pi(alpha)\n",
    "#     print(LL)\n",
    "    EX = np.zeros((len(seqs['Time']),model.K))\n",
    "    for c in range(len(seqs['Time'])):\n",
    "        time = seqs['Time'][c].flatten()\n",
    "        event = seqs['Mark'][c].flatten()\n",
    "        Tstart = seqs['Start'][c].flatten()\n",
    "        if not alg.Tmax:\n",
    "            Tstop = seqs['Stop'][c].flatten()\n",
    "        else:\n",
    "            Tstop = alg.Tmax\n",
    "            indt = time < alg.Tmax\n",
    "            time = time[indt]\n",
    "            event = event[indt]\n",
    "        N = len(time)\n",
    "#         print(Tstop-time)\n",
    "        G = kernel_int(Tstop-time,model)\n",
    "#         print(np.sum(G))\n",
    "        LL = Elogpi\n",
    "        for i in range(N):\n",
    "            ui = event[i]\n",
    "            ti = time[i]\n",
    "        \n",
    "            E_lambda_i = (np.sqrt(np.pi/2) * model.b[ui-1,:]).flatten() + np.spacing(1)\n",
    "            V_lambda_i = ((2 - np.pi/2) * (model.b[ui-1,:]**2)).flatten()\n",
    "#             print(np.sum(E_lambda_i))\n",
    "#             print(np.sum(V_lambda_i))\n",
    "            if i > 0:\n",
    "                uj = event[0:i].flatten()\n",
    "                tj = time[0:i].flatten()\n",
    "#                 print(ti-tj)\n",
    "                gij = kernel(ti-tj,model)\n",
    "                auiuj = model.beta[uj-1,:,:,ui-1]\n",
    "                tiled = np.tile(gij,(1,1,1))\n",
    "                tiled = np.tile(tiled.T,(1,1,model.K))\n",
    "                pij = np.multiply(tiled,auiuj)\n",
    "#                 print(pij.shape)\n",
    "                tmp = np.sum(pij,axis=(0,1))\n",
    "                E_lambda_i += tmp.conj().T\n",
    "                tmp = np.sum(pij**2,axis=(0,1))\n",
    "#                 print(tmp.shape)\n",
    "#                 print(tmp)\n",
    "                V_lambda_i += tmp.conj().T\n",
    "            LL = LL + np.log(E_lambda_i) - (V_lambda_i/ (2*(E_lambda_i**2)))\n",
    "#             print(LL)\n",
    "        \n",
    "#         print(np.sum(model.b, 0))\n",
    "        LL -= (Tstop-Tstart).flatten() * (np.sqrt(np.pi/2) * np.sum(model.b, 0))\n",
    "#         print(LL)  #error\n",
    "        temp = np.tile(G,(model.K,1,1)).T\n",
    "        temp2 = np.multiply(temp,np.sum(model.beta[event-1,:,:,:],axis = 3))\n",
    "        tmp = np.sum(temp2,(0,1))\n",
    "        LL -= tmp\n",
    "#         print(LL)  # error\n",
    "        XX = (LL - np.max(LL))\n",
    "        EX[c,:] = (np.exp(XX) / np.sum(np.exp(XX)))\n",
    "    \n",
    "    model.r = EX"
   ]
  },
  {
   "cell_type": "code",
   "execution_count": 8,
   "metadata": {},
   "outputs": [],
   "source": [
    "def Maximization_DMHP (seqs,model,alg):\n",
    "    EX = model.r\n",
    "    A = model.beta\n",
    "    mu = np.sqrt(np.pi/2)*model.b\n",
    "    \n",
    "#     print('A: ', A.shape)\n",
    "\n",
    "    for inn in range(alg.inner):\n",
    "        temp1 = A / model.beta\n",
    "        temp1[np.isnan(temp1)]  = 0\n",
    "        temp1[np.isinf(temp1)]  = 0\n",
    "    \n",
    "        temp2 = (mu**2) / (2*(model.b**2))\n",
    "        temp2[np.isnan(temp2)]  = 0\n",
    "        temp2[np.isinf(temp2)]  = 0\n",
    "    \n",
    "        temp3 = np.log(mu)  \n",
    "        temp3[np.isnan(temp3)]  = 0\n",
    "        temp3[np.isinf(temp3)]  = 0\n",
    "        \n",
    "#         print('tmp1=',np.sum(temp1),', tmp2=',np.sum(temp2),', tmp3=',np.sum(temp3))\n",
    "        \n",
    "        NLL = np.sum(temp1) + np.sum(temp2) - np.sum(temp3)  # minus.. temp3\n",
    "#         print('NLL:', NLL)\n",
    "    \n",
    "        MuA = 1 / (model.b**2)\n",
    "        MuA[np.isinf(MuA)]  = 0\n",
    "        MuB = 0\n",
    "        MuC = - np.ones(model.b.shape)\n",
    "    \n",
    "        AB = np.zeros(A.shape)\n",
    "        AA =  1 / (model.beta)\n",
    "        AA[np.isinf(AA)] = 0\n",
    "        \n",
    "    \n",
    "        for c in range(len(seqs['Time'])):\n",
    "        \n",
    "            time = seqs['Time'][c].flatten()\n",
    "            event = seqs['Mark'][c].flatten()\n",
    "            Tstart = seqs['Start'][c].flatten()\n",
    "        \n",
    "            if not alg.Tmax:\n",
    "                Tstop = seqs['Stop'][c].flatten()\n",
    "            else:\n",
    "                Tstop = alg.Tmax\n",
    "                indt = time < alg.Tmax\n",
    "                time = time[indt]\n",
    "                event = event[indt]\n",
    "            N = len(time)\n",
    "            G = kernel_int(Tstop-time,model)\n",
    "#             print(Tstop-time)\n",
    "#             print('G: ')\n",
    "#             print(G)\n",
    "#             print('G end')\n",
    "        \n",
    "            TMPAA = np.zeros(A.shape)\n",
    "            TMPAB = np.zeros(A.shape)\n",
    "            TMPMuC = np.zeros(mu.shape)\n",
    "            LL = 0\n",
    "            for i in range(N):\n",
    "#            \n",
    "                ui = event[i]\n",
    "                ti = time[i]\n",
    "            \n",
    "                tmp = np.tile(G[:,i],(model.D,model.K,1)).T\n",
    "            \n",
    "                TMPAA[ui-1,:,:,:] = TMPAA[ui-1,:,:,:] + tmp ## look at here \n",
    "            \n",
    "                lambdai = mu[ui-1,:] + np.spacing(1)  ## added spacing\n",
    "                pii = lambdai;\n",
    "            \n",
    "                if i > 0:\n",
    "                    uj = event[0:i].flatten()\n",
    "                    tj = time[0:i].flatten()\n",
    "#                     print(ti-tj)\n",
    "                    gij = kernel(ti-tj,model)\n",
    "#                     print('gij')\n",
    "#                     print(gij)\n",
    "                    auiuj = A[uj-1,:,:,ui-1]  ## A instead of model.beta and ui\n",
    "                    tiled = np.tile(gij,(1,1,1))\n",
    "                    tiled = np.tile(tiled.T,(1,1,model.K))\n",
    "                    pij = np.multiply(tiled,auiuj)\n",
    "#                     print(np.sum(pij, axis=1))\n",
    "#                     print(pij.shape)\n",
    "                \n",
    "                    tmp = np.sum(pij,(0,1))\n",
    "#                     print(np.sum(tmp))\n",
    "                    lambdai += tmp.conj().T  ## lambdai += tmp \n",
    "#                     print(np.sum(lambdai))                \n",
    "                    tmp = np.tile(lambdai,(pij.shape[0],pij.shape[1],1))\n",
    "                    pij /= tmp\n",
    "                \n",
    "                    for j in range(i):\n",
    "                        uj = event[j]\n",
    "                        TMPAB[uj-1,:,:,ui-1] -= pij[j,:,:]\n",
    "                    \n",
    "                LL += np.log(lambdai) \n",
    "#                 print(LL)\n",
    "            \n",
    "                pii /= lambdai\n",
    "                TMPMuC[ui-1,:] -= pii\n",
    "            \n",
    "#             print('LL:')\n",
    "#             print(np.sum(LL))\n",
    "            LL-= (Tstop - Tstart) * (np.sum(mu, axis=0))\n",
    "#             print(mu.shape)\n",
    "#             print(Tstop - Tstart)\n",
    "#             print(np.sum(mu))\n",
    "#             print((Tstop - Tstart) * (np.sum(mu, axis=0)))\n",
    "#             print(np.sum(LL))\n",
    "            temp = np.tile(G,(model.K,1,1)).T\n",
    "            temp2 = np.multiply(temp,np.sum(A[event-1,:,:,:],axis = 3))\n",
    "            tmp = np.sum(temp2,(0,1))\n",
    "#             print(np.sum(tmp))\n",
    "            LL -= tmp.conj().T ## changed to conj\n",
    "#             print(np.sum(LL))\n",
    "        \n",
    "            MuB += (Tstop-Tstart) * EX[c,:]\n",
    "        \n",
    "            for k in range(model.K):\n",
    "                AA[:,:,k,:] = AA[:,:,k,:] + (EX[c,k]*TMPAA[:,:,k,:]) \n",
    "                AB[:,:,k,:] = AB[:,:,k,:] + (EX[c,k]*TMPAB[:,:,k,:]) \n",
    "                MuC[:,k] = MuC[:,k] +  (EX[c,k]*TMPMuC[:,k]) \n",
    "#             NLL -= np.sum(EX[c,:]*LL)\n",
    "#             print(np.sum(LL))\n",
    "            NLL -= np.dot(EX[c,:],LL)\n",
    "#             print(NLL)\n",
    "        MuBB = np.tile(MuB,(model.D,1))\n",
    "        mutmp = (-MuBB + np.sqrt((MuBB)**2 - 4*(MuA * MuC))) / (2*MuA)\n",
    "        Atmp = -AB / AA\n",
    "    \n",
    "        Atmp[np.isnan(Atmp)] = 0\n",
    "        mutmp[np.isnan(mutmp)] = 0\n",
    "        Atmp[np.isinf(Atmp)] = 0\n",
    "        mutmp[np.isinf(mutmp)] = 0\n",
    "    \n",
    "        Err = np.sum(np.abs(A - Atmp)) / np.sum(np.abs(A))  ## removed np.nan_to_num()\n",
    "        print(\"Inner: \",inn, \" NLL: \", NLL, \" Err: \",Err)\n",
    "        \n",
    "        A = Atmp\n",
    "        mu = mutmp\n",
    "        \n",
    "#         print(A)\n",
    "#         print(np.sum(A))\n",
    "    \n",
    "        if Err < alg.thres or  inn == alg.inner:\n",
    "            break\n",
    "#     model.beta = A\n",
    "#     model.b = np.sqrt(2/np.pi) * mu\n",
    "    return NLL,A,mu\n",
    "        "
   ]
  },
  {
   "cell_type": "code",
   "execution_count": 9,
   "metadata": {},
   "outputs": [],
   "source": [
    "def plot_similarity(r):\n",
    "    EstSimi = estimate_similarity(r)\n",
    "    fig = plt.figure()\n",
    "    ax = fig.add_subplot(1,1,1)\n",
    "    ax.set_aspect('equal')\n",
    "    plt.imshow(EstSimi,interpolation='nearest',cmap=\"binary_r\")\n",
    "    plt.colorbar()\n",
    "    plt.show()"
   ]
  },
  {
   "cell_type": "code",
   "execution_count": 10,
   "metadata": {},
   "outputs": [],
   "source": [
    "def Learn_DMHP(seqs,model,alg):\n",
    "    NLL = np.zeros(alg.outer)\n",
    "    for outer in range(alg.outer):\n",
    "        NLL[outer],A,mu = Maximization_DMHP(seqs,model,alg)\n",
    "        model.beta = A\n",
    "        model.b = np.sqrt(2/np.pi) * mu\n",
    "        Expectation_DMHP(seqs,model,alg)\n",
    "        \n",
    "        \n",
    "        plot_similarity(model.r)\n",
    "        print(\"Outer Iter: \",outer,\" NLL: \", NLL[outer])"
   ]
  },
  {
   "cell_type": "code",
   "execution_count": 11,
   "metadata": {},
   "outputs": [],
   "source": [
    "# def Learn_DMHP(seqs,model,alg):\n",
    "#     NLL = np.zeros(alg.outer)\n",
    "#     for outer in range(alg.outer):\n",
    "#         LL_1,A_1,mu_1= Maximization_DMHP(seqs,model,alg)\n",
    "#         model_2 = copy.deepcopy(model) \n",
    "#         Expectation_DMHP(seqs,model_2,alg)\n",
    "#         LL_2,A_2,mu_2= Maximization_DMHP(seqs,model_2,alg)\n",
    "#         print(\"LL_1:\", LL_1, \" LL_2: \",LL_2)\n",
    "#         if (LL_1 < LL_2):\n",
    "#             model.beta = A_1\n",
    "#             model.b = np.sqrt(2/np.pi) * mu_1\n",
    "#             NLL[outer] = LL_1\n",
    "#             print(\"LL_1 is smaller:\", LL_1)\n",
    "#         else:\n",
    "#             model = copy.deepcopy(model_2)\n",
    "#             model.beta = A_2\n",
    "#             model.b = np.sqrt(2/np.pi) * mu_2\n",
    "#             NLL[outer] = LL_2\n",
    "#             print(\"LL_2 is smaller:\", LL_2)\n",
    "        \n",
    "#         plot_similarity(model.r)\n",
    "#         print(\"Outer Iter: \",outer,\" NLL: \", NLL[outer])"
   ]
  },
  {
   "cell_type": "code",
   "execution_count": 12,
   "metadata": {},
   "outputs": [],
   "source": [
    "def cluster_purity(K, r, actual_label):\n",
    "    W = np.argmax(r, axis=1)\n",
    "    C = actual_label\n",
    "    print('C:', C)\n",
    "    print('W:', W)\n",
    "    N = W.shape[0]\n",
    "    purity = 0\n",
    "    \n",
    "    for k in range(K):\n",
    "        index_k = np.where(W==k)\n",
    "        print(index_k)\n",
    "        print('C-W', C[index_k])\n",
    "        C_k = C[index_k]\n",
    "        count = []\n",
    "        for k in range(K):\n",
    "            count.append(np.sum(C_k==k))\n",
    "            print(np.sum(C_k==k))\n",
    "\n",
    "        purity+=np.max(count)\n",
    "    \n",
    "    return purity/N\n",
    "        "
   ]
  },
  {
   "cell_type": "code",
   "execution_count": 13,
   "metadata": {},
   "outputs": [],
   "source": [
    "def estimate_similarity(r):\n",
    "    labels = np.argmax(r,axis = 1)\n",
    "    EstSimi = np.zeros((len(labels),len(labels)))\n",
    "    for i in range(len(labels)):\n",
    "        for j in range(len(labels)):\n",
    "            if(labels[i] == labels[j]):\n",
    "                EstSimi[i,j] = 1\n",
    "    return EstSimi"
   ]
  },
  {
   "cell_type": "code",
   "execution_count": 14,
   "metadata": {},
   "outputs": [],
   "source": [
    "linkedInData = sio.loadmat('Data/LinkedinData.mat')\n",
    "IPTVData = sio.loadmat('Data/IPTVData.mat')\n",
    "synData = sio.loadmat('Data/syn_data.mat')\n",
    "IPTVSeqs,IPTVStats = parse_mat(IPTVData)\n",
    "linkedInSeqs,linedInStats = parse_mat(linkedInData)\n",
    "synSeqs,synStats = parse_mat(synData)"
   ]
  },
  {
   "cell_type": "code",
   "execution_count": 15,
   "metadata": {},
   "outputs": [
    {
     "name": "stdout",
     "output_type": "stream",
     "text": [
      "Inner:  0  NLL:  17132.130154075618  Err:  0.8574590159029993\n",
      "Inner:  1  NLL:  12486.780783559409  Err:  0.04773591983775849\n",
      "Inner:  2  NLL:  12485.776036792771  Err:  0.04424600965941169\n",
      "Inner:  3  NLL:  12484.94241285392  Err:  0.04153227370071948\n",
      "Inner:  4  NLL:  12484.231672357118  Err:  0.039341769911045245\n"
     ]
    },
    {
     "data": {
      "image/png": "[encoded data removed]",
      "text/plain": [
       "<Figure size 432x288 with 2 Axes>"
      ]
     },
     "metadata": {},
     "output_type": "display_data"
    },
    {
     "name": "stdout",
     "output_type": "stream",
     "text": [
      "Outer Iter:  0  NLL:  12484.231672357118\n"
     ]
    },
    {
     "name": "stderr",
     "output_type": "stream",
     "text": [
      "/usr/lib/python3.6/site-packages/ipykernel_launcher.py:9: RuntimeWarning: invalid value encountered in true_divide\n",
      "  if __name__ == '__main__':\n",
      "/usr/lib/python3.6/site-packages/ipykernel_launcher.py:32: RuntimeWarning: divide by zero encountered in true_divide\n"
     ]
    },
    {
     "name": "stdout",
     "output_type": "stream",
     "text": [
      "Inner:  0  NLL:  12499.01136334316  Err:  0.10826740419617704\n",
      "Inner:  1  NLL:  12494.419927292014  Err:  0.08339271005397453\n",
      "Inner:  2  NLL:  12489.66939231753  Err:  0.06527015395270018\n",
      "Inner:  3  NLL:  12486.884001835073  Err:  0.05408296189142912\n",
      "Inner:  4  NLL:  12485.098508335885  Err:  0.046873563788556734\n"
     ]
    },
    {
     "data": {
      "image/png": "[encoded data removed]",
      "text/plain": [
       "<Figure size 432x288 with 2 Axes>"
      ]
     },
     "metadata": {},
     "output_type": "display_data"
    },
    {
     "name": "stdout",
     "output_type": "stream",
     "text": [
      "Outer Iter:  1  NLL:  12485.098508335885\n",
      "Inner:  0  NLL:  12502.694758263115  Err:  0.06481651242585167\n",
      "Inner:  1  NLL:  12486.027542048683  Err:  0.050301490308690786\n",
      "Inner:  2  NLL:  12483.7120263676  Err:  0.04588115331207889\n",
      "Inner:  3  NLL:  12482.52839814148  Err:  0.04371050031122304\n",
      "Inner:  4  NLL:  12481.65125081511  Err:  0.04246627582641734\n"
     ]
    },
    {
     "data": {
      "image/png": "[encoded data removed]",
      "text/plain": [
       "<Figure size 432x288 with 2 Axes>"
      ]
     },
     "metadata": {},
     "output_type": "display_data"
    },
    {
     "name": "stdout",
     "output_type": "stream",
     "text": [
      "Outer Iter:  2  NLL:  12481.65125081511\n",
      "Inner:  0  NLL:  12500.220781284776  Err:  0.05631006626657947\n",
      "Inner:  1  NLL:  12480.18178808445  Err:  0.05333302319794655\n",
      "Inner:  2  NLL:  12478.756741595746  Err:  0.051675948999196884\n",
      "Inner:  3  NLL:  12477.67501307325  Err:  0.05052292986041455\n",
      "Inner:  4  NLL:  12476.742273081902  Err:  0.04957709650996595\n"
     ]
    },
    {
     "data": {
      "image/png": "[encoded data removed]",
      "text/plain": [
       "<Figure size 432x288 with 2 Axes>"
      ]
     },
     "metadata": {},
     "output_type": "display_data"
    },
    {
     "name": "stdout",
     "output_type": "stream",
     "text": [
      "Outer Iter:  3  NLL:  12476.742273081902\n",
      "Inner:  0  NLL:  12492.35262862034  Err:  0.06078677385244395\n",
      "Inner:  1  NLL:  12468.920252731394  Err:  0.060402205737975743\n",
      "Inner:  2  NLL:  12467.274573644167  Err:  0.05840147488151947\n",
      "Inner:  3  NLL:  12465.997653519778  Err:  0.05666191534587717\n",
      "Inner:  4  NLL:  12464.89283791296  Err:  0.05489121006046661\n"
     ]
    },
    {
     "data": {
      "image/png": "[encoded data removed]",
      "text/plain": [
       "<Figure size 432x288 with 2 Axes>"
      ]
     },
     "metadata": {},
     "output_type": "display_data"
    },
    {
     "name": "stdout",
     "output_type": "stream",
     "text": [
      "Outer Iter:  4  NLL:  12464.89283791296\n",
      "Inner:  0  NLL:  12469.220931836227  Err:  0.05862493493380227\n",
      "Inner:  1  NLL:  12450.665191297021  Err:  0.06273365669246307\n",
      "Inner:  2  NLL:  12448.810672750595  Err:  0.059368677138475726\n",
      "Inner:  3  NLL:  12447.280884971477  Err:  0.056123469703151664\n",
      "Inner:  4  NLL:  12445.984726390572  Err:  0.05291324690286299\n"
     ]
    },
    {
     "data": {
      "image/png": "[encoded data removed]",
      "text/plain": [
       "<Figure size 432x288 with 2 Axes>"
      ]
     },
     "metadata": {},
     "output_type": "display_data"
    },
    {
     "name": "stdout",
     "output_type": "stream",
     "text": [
      "Outer Iter:  5  NLL:  12445.984726390572\n",
      "Inner:  0  NLL:  12448.012313082381  Err:  0.05339894203425293\n",
      "Inner:  1  NLL:  12436.309308032049  Err:  0.05579395079054143\n",
      "Inner:  2  NLL:  12434.030766183967  Err:  0.05094916763394976\n",
      "Inner:  3  NLL:  12432.515259418906  Err:  0.04663141253674085\n",
      "Inner:  4  NLL:  12431.392330211329  Err:  0.042640911998110376\n"
     ]
    },
    {
     "data": {
      "image/png": "[encoded data removed]",
      "text/plain": [
       "<Figure size 432x288 with 2 Axes>"
      ]
     },
     "metadata": {},
     "output_type": "display_data"
    },
    {
     "name": "stdout",
     "output_type": "stream",
     "text": [
      "Outer Iter:  6  NLL:  12431.392330211329\n",
      "Inner:  0  NLL:  12438.869372140078  Err:  0.044877859035774854\n",
      "Inner:  1  NLL:  12427.547275236497  Err:  0.042791014964674565\n",
      "Inner:  2  NLL:  12425.86231060917  Err:  0.038268346963175916\n",
      "Inner:  3  NLL:  12424.873410668619  Err:  0.034292631321354905\n",
      "Inner:  4  NLL:  12424.179651322029  Err:  0.030717555437459743\n"
     ]
    },
    {
     "data": {
      "image/png": "[encoded data removed]",
      "text/plain": [
       "<Figure size 432x288 with 2 Axes>"
      ]
     },
     "metadata": {},
     "output_type": "display_data"
    },
    {
     "name": "stdout",
     "output_type": "stream",
     "text": [
      "Outer Iter:  7  NLL:  12424.179651322029\n"
     ]
    }
   ],
   "source": [
    "model = Model(synSeqs,5)\n",
    "alg = Alg()\n",
    "Learn_DMHP(synSeqs,model,alg)"
   ]
  },
  {
   "cell_type": "code",
   "execution_count": 17,
   "metadata": {},
   "outputs": [
    {
     "data": {
      "image/png": "[encoded data removed]",
      "text/plain": [
       "<Figure size 432x288 with 2 Axes>"
      ]
     },
     "metadata": {},
     "output_type": "display_data"
    }
   ],
   "source": [
    "l1 = np.zeros(int(200/2))\n",
    "l2 = np.ones(int(int(200/2)))\n",
    "label = np.append(l1, l2)\n",
    "r = np.zeros((200,5))\n",
    "for k in range(5):\n",
    "    r[label==k,k] = 1\n",
    "# cluster_purity(5,model.r,label)\n",
    "plot_similarity(r)"
   ]
  }
 ],
 "metadata": {
  "kernelspec": {
   "display_name": "Python 3",
   "language": "python",
   "name": "python3"
  },
  "language_info": {
   "codemirror_mode": {
    "name": "ipython",
    "version": 3
   },
   "file_extension": ".py",
   "mimetype": "text/x-python",
   "name": "python",
   "nbconvert_exporter": "python",
   "pygments_lexer": "ipython3",
   "version": "3.6.5"
  }
 },
 "nbformat": 4,
 "nbformat_minor": 2
}
